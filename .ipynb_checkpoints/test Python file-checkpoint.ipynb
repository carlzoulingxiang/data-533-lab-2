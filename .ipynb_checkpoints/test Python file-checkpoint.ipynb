{
 "cells": [
  {
   "cell_type": "code",
   "execution_count": 11,
   "id": "c754010f-040e-4da5-93c4-5e96d9032f9e",
   "metadata": {},
   "outputs": [],
   "source": [
    "from arraytools.numarraytools import NumArraySortTool as numsort\n",
    "from arraytools.numarraytools import NumArraySearchTool as numst"
   ]
  },
  {
   "cell_type": "code",
   "execution_count": null,
   "id": "dba00861-be95-44d9-be3f-d3c8f8c06cc6",
   "metadata": {},
   "outputs": [],
   "source": []
  },
  {
   "cell_type": "code",
   "execution_count": null,
   "id": "9e8b0080-b390-40da-afe2-bb0b28f8b8de",
   "metadata": {},
   "outputs": [],
   "source": []
  }
 ],
 "metadata": {
  "kernelspec": {
   "display_name": "Python 3 (ipykernel)",
   "language": "python",
   "name": "python3"
  },
  "language_info": {
   "codemirror_mode": {
    "name": "ipython",
    "version": 3
   },
   "file_extension": ".py",
   "mimetype": "text/x-python",
   "name": "python",
   "nbconvert_exporter": "python",
   "pygments_lexer": "ipython3",
   "version": "3.9.5"
  }
 },
 "nbformat": 4,
 "nbformat_minor": 5
}
